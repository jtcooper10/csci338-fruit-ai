{
 "cells": [
  {
   "cell_type": "code",
   "execution_count": 1,
   "metadata": {
    "collapsed": true
   },
   "outputs": [],
   "source": [
    "import model.fruit\n",
    "import torch\n",
    "import torch.utils.data\n",
    "import torch.nn as nn\n",
    "import torch.nn.functional as func\n",
    "import torchvision\n",
    "import numpy as np\n",
    "from PIL import Image"
   ]
  },
  {
   "cell_type": "markdown",
   "source": [
    "# Importing the Data Set\n",
    "\n",
    "The first step of training or testing is to import your dataset.\n",
    "This will make the image set available for use, as well as defining your labels.\n",
    "\n",
    "Training data must be organized into folders, each of which representing one classification.\n",
    "For example, a folder called 'Apples' which contains only apple pictures, then a folder called 'Bananas', etc.\n",
    "\n",
    "The root path passed into the `get_data()` function should contain all of folders, having the structure:\n",
    "\n",
    "```\n",
    "root/\n",
    "  Apples/\n",
    "    img1.jpg\n",
    "    img2.jpg\n",
    "    ...\n",
    "    imgN.jpg\n",
    "  Bananas/\n",
    "    img1.jpg\n",
    "    img2.jpg\n",
    "    ...\n",
    "    imgN.jpg\n",
    "  ...\n",
    "```\n",
    "\n",
    "*Note: importing a dataset is NOT NECESSARY for inference, only for testing and training*"
   ],
   "metadata": {
    "collapsed": false,
    "pycharm": {
     "name": "#%% md\n"
    }
   }
  },
  {
   "cell_type": "code",
   "execution_count": 2,
   "outputs": [
    {
     "data": {
      "text/plain": "['Apple', 'Banana', 'Lemon', 'Limes']"
     },
     "execution_count": 2,
     "metadata": {},
     "output_type": "execute_result"
    }
   ],
   "source": [
    "# To run this example, replace the path below with the path to your dataset.\n",
    "# It is recommended to import twice, once for training and once for testing (with different data sets, obviously).\n",
    "\n",
    "training_set, classes = model.fruit.FruitTrainingModel.get_data(root=r\"D:\\Documents\\School\\MAIN_FRUITS\\PLAY\",\n",
    "                                                                batch_size=4,\n",
    "                                                                shuffle=True,\n",
    "                                                                num_workers=4)\n",
    "# get_data() returns a dict mapping the label name to its id (an integer).\n",
    "# For training, we need to convert this into an ordered list of strings.\n",
    "classes = sorted(list(classes.keys()), key=lambda cls: classes[cls])\n",
    "classes"
   ],
   "metadata": {
    "collapsed": false,
    "pycharm": {
     "name": "#%%\n"
    }
   }
  },
  {
   "cell_type": "markdown",
   "source": [
    "# Basic Model Training\n",
    "\n",
    "Below is the world's simplest training pipeline, just for basic demonstration.\n",
    "Typical features of a training pipeline include things like measurements, accuracy tests, convergence, among others.\n",
    "The given example blindly trains the model, for demonstration purposes.\n"
   ],
   "metadata": {
    "collapsed": false,
    "pycharm": {
     "name": "#%% md\n"
    }
   }
  },
  {
   "cell_type": "code",
   "execution_count": 3,
   "outputs": [],
   "source": [
    "# First, we create our model.\n",
    "m = model.fruit.FruitTrainingModel(labels=classes)"
   ],
   "metadata": {
    "collapsed": false,
    "pycharm": {
     "name": "#%%\n"
    }
   }
  },
  {
   "cell_type": "code",
   "execution_count": 4,
   "outputs": [
    {
     "name": "stdout",
     "output_type": "stream",
     "text": [
      "Training model...\n",
      "16 out of 165 sets (avg loss so far = 0.6747409517566363)\n",
      "32 out of 165 sets (avg loss so far = 0.33392617444042116)\n",
      "48 out of 165 sets (avg loss so far = 0.13609429344069213)\n",
      "64 out of 165 sets (avg loss so far = 0.1566448172670789)\n",
      "80 out of 165 sets (avg loss so far = 0.14235287410701858)\n",
      "96 out of 165 sets (avg loss so far = 0.1349896158571937)\n",
      "112 out of 165 sets (avg loss so far = 0.05407547660070122)\n",
      "128 out of 165 sets (avg loss so far = 0.07990075941233954)\n",
      "144 out of 165 sets (avg loss so far = 0.0998560030166118)\n",
      "160 out of 165 sets (avg loss so far = 0.07949153185836622)\n",
      "Done! Final avg loss:  0.17901555402204394\n"
     ]
    }
   ],
   "source": [
    "# World's simplest training pipeline\n",
    "# WARNING: this will take quite a while, especially with a large dataset.\n",
    "num_epochs = 8\n",
    "loss = []\n",
    "try:\n",
    "    print(\"Training model...\")\n",
    "    for i, data in enumerate(training_set, start=1):\n",
    "        # Every 10% of the way there, give a checkpoint update.\n",
    "        if i % (len(training_set) // 10) == 0:\n",
    "            print(f\"{i} out of {len(training_set)} sets (avg loss so far = {np.array(loss).mean()})\")\n",
    "            loss.clear()\n",
    "        # Train our model, record the results.\n",
    "        for j in range(num_epochs):\n",
    "            loss.append(m.run_epoch(data))\n",
    "except KeyboardInterrupt:\n",
    "    print(\"Training was interrupted\")\n",
    "\n",
    "# Return the average loss during training\n",
    "print(\"Done! Final avg loss: \", np.array(loss).mean())"
   ],
   "metadata": {
    "collapsed": false,
    "pycharm": {
     "name": "#%%\n"
    }
   }
  },
  {
   "cell_type": "markdown",
   "source": [
    "# Inference\n",
    "\n",
    "Finally, we can take our trained model and make predictions with it!\n",
    "\n",
    "The simplest way is to pass in a PIL image, but you may alternatively pass in a 4D tensor representing the image."
   ],
   "metadata": {
    "collapsed": false,
    "pycharm": {
     "name": "#%% md\n"
    }
   }
  },
  {
   "cell_type": "code",
   "execution_count": 5,
   "outputs": [
    {
     "data": {
      "text/plain": "{'Banana': 0.7035243511199951}"
     },
     "execution_count": 5,
     "metadata": {},
     "output_type": "execute_result"
    }
   ],
   "source": [
    "img = Image.open(r\"D:\\Documents\\School\\MAIN_FRUITS\\banana1.jpg\")\n",
    "# img = model.fruit.FruitModel.transform(img).unsqueeze(0)\n",
    "m.predict(img)"
   ],
   "metadata": {
    "collapsed": false,
    "pycharm": {
     "name": "#%%\n"
    }
   }
  },
  {
   "cell_type": "markdown",
   "source": [
    "# Importing/Exporting\n",
    "\n",
    "Once a model has been satisfactorily trained, you can export it to a `.pth` file to be reloaded later.\n"
   ],
   "metadata": {
    "collapsed": false,
    "pycharm": {
     "name": "#%% md\n"
    }
   }
  },
  {
   "cell_type": "markdown",
   "source": [
    "## Export Model\n",
    "\n",
    "The model state will be saved to the given location and can be loaded later.\n",
    "It is recommended that these models be versioned, and the labels that they were trained with be recorded."
   ],
   "metadata": {
    "collapsed": false,
    "pycharm": {
     "name": "#%% md\n"
    }
   }
  },
  {
   "cell_type": "code",
   "execution_count": 6,
   "outputs": [],
   "source": [
    "m.export(r\"D:\\Documents\\School\\MAIN_FRUITS\\model.pth\")"
   ],
   "metadata": {
    "collapsed": false,
    "pycharm": {
     "name": "#%%\n"
    }
   }
  },
  {
   "cell_type": "markdown",
   "source": [
    "## Import Model\n",
    "\n",
    "You will need access to the same labels (in the same order) that you exported your model with!\n",
    "Using different labels will result in odd or broken predictions."
   ],
   "metadata": {
    "collapsed": false,
    "pycharm": {
     "name": "#%% md\n"
    }
   }
  },
  {
   "cell_type": "code",
   "execution_count": 8,
   "outputs": [
    {
     "data": {
      "text/plain": "{'Banana': 0.7035243511199951}"
     },
     "execution_count": 8,
     "metadata": {},
     "output_type": "execute_result"
    }
   ],
   "source": [
    "mx = model.fruit.FruitModel.from_file(labels=classes, path=r\"D:\\Documents\\School\\MAIN_FRUITS\\model.pth\")\n",
    "mx.predict(Image.open(r\"D:\\Documents\\School\\MAIN_FRUITS\\banana1.jpg\"))\n"
   ],
   "metadata": {
    "collapsed": false,
    "pycharm": {
     "name": "#%%\n"
    }
   }
  }
 ],
 "metadata": {
  "kernelspec": {
   "display_name": "Python 3",
   "language": "python",
   "name": "python3"
  },
  "language_info": {
   "codemirror_mode": {
    "name": "ipython",
    "version": 2
   },
   "file_extension": ".py",
   "mimetype": "text/x-python",
   "name": "python",
   "nbconvert_exporter": "python",
   "pygments_lexer": "ipython2",
   "version": "2.7.6"
  }
 },
 "nbformat": 4,
 "nbformat_minor": 0
}